{
  "nbformat": 4,
  "nbformat_minor": 0,
  "metadata": {
    "colab": {
      "provenance": [],
      "authorship_tag": "ABX9TyPpBCqVHW18tuPTdn2QUbGf",
      "include_colab_link": true
    },
    "kernelspec": {
      "name": "python3",
      "display_name": "Python 3"
    },
    "language_info": {
      "name": "python"
    }
  },
  "cells": [
    {
      "cell_type": "markdown",
      "metadata": {
        "id": "view-in-github",
        "colab_type": "text"
      },
      "source": [
        "<a href=\"https://colab.research.google.com/github/MohammedHashir1/Assignments/blob/main/2_Assignment.ipynb\" target=\"_parent\"><img src=\"https://colab.research.google.com/assets/colab-badge.svg\" alt=\"Open In Colab\"/></a>"
      ]
    },
    {
      "cell_type": "markdown",
      "source": [
        " Part A: Basic String Operations\n",
        "Create a string variable sentence = \"Python Programming is Powerful!\"\n",
        "\n",
        "Print the length of the string.\n",
        "\n",
        "Convert the entire string to lowercase.\n",
        "\n",
        "Convert the entire string to uppercase.\n",
        "\n",
        "Capitalize only the first letter of the sentence.\n"
      ],
      "metadata": {
        "id": "QXsyRl0uHBsi"
      }
    },
    {
      "cell_type": "code",
      "source": [
        "name=\"Python Programming is Powerful!\"\n",
        "print(f\"length is :{len(name)}\")\n",
        "print(f\"upper caseis :{name.upper()}\")\n",
        "print(f\"lower case is :{name.lower()}\")\n",
        "print(f\"all capital is :{name.capitalize()}\")\n"
      ],
      "metadata": {
        "colab": {
          "base_uri": "https://localhost:8080/"
        },
        "id": "dQrb3W9WHF21",
        "outputId": "f4013098-2585-4124-b3d2-0fea7e5644ea"
      },
      "execution_count": 11,
      "outputs": [
        {
          "output_type": "stream",
          "name": "stdout",
          "text": [
            "length is :31\n",
            "upper caseis :PYTHON PROGRAMMING IS POWERFUL!\n",
            "lower case is :python programming is powerful!\n",
            "all capital is :Python programming is powerful!\n"
          ]
        }
      ]
    },
    {
      "cell_type": "markdown",
      "source": [
        " Part B: String Indexing and Slicing\n",
        "From the string \"Learning Python is fun!\", perform the following:\n",
        "\n",
        "Extract the word \"Python\" using slicing.\n",
        "\n",
        "Reverse the string using slicing.\n",
        "\n",
        "Get the last 4 characters of the string.\n",
        "\n",
        "\n"
      ],
      "metadata": {
        "id": "D7yBpUDbIrno"
      }
    },
    {
      "cell_type": "code",
      "source": [
        "name=\"Learning Python is fun!\"\n",
        "print(f\" the slicing is : {name[9:15]}\")\n",
        "print(f\" the slicing is : {name[::-1]}\")\n",
        "print(f\"print the last 4 letters from name: {name[-4:-1]}\")\n"
      ],
      "metadata": {
        "colab": {
          "base_uri": "https://localhost:8080/"
        },
        "id": "oK3O6D9CIxjC",
        "outputId": "96dd4867-a87b-47f6-f108-fd9cdc620a84"
      },
      "execution_count": 13,
      "outputs": [
        {
          "output_type": "stream",
          "name": "stdout",
          "text": [
            " the slicing is : Python\n",
            " the slicing is : !nuf si nohtyP gninraeL\n",
            "print the last 4 letters from name: fun\n"
          ]
        }
      ]
    },
    {
      "cell_type": "markdown",
      "source": [
        "Part C: Searching and Replacing\n",
        "Use the string \"Data science is science and art\":\n",
        "\n",
        "Count how many times the word \"science\" appears.\n",
        "\n",
        "Replace the word \"science\" with \"knowledge\".\n",
        "\n",
        "Find the index of the first occurrence of \"art\".\n",
        "\n",
        "\n"
      ],
      "metadata": {
        "id": "u3tv_2yPJ1fF"
      }
    },
    {
      "cell_type": "code",
      "source": [
        "name=\"Data science is science and art\"\n",
        "print(f\"no.of time science repeated : {name.count('science')}\")\n",
        "print(f\"replacing : {name.replace('science','knowledge')}\")"
      ],
      "metadata": {
        "colab": {
          "base_uri": "https://localhost:8080/"
        },
        "id": "0fUKhpBoJ6lr",
        "outputId": "54d58509-a7aa-4b01-e19c-d9f665bcab2f"
      },
      "execution_count": 14,
      "outputs": [
        {
          "output_type": "stream",
          "name": "stdout",
          "text": [
            "no.of time science repeated : 2\n",
            "replacing : Data knowledge is knowledge and art\n"
          ]
        }
      ]
    },
    {
      "cell_type": "markdown",
      "source": [
        " Part D: Useful String Methods\n",
        "With the string \" Hello, World! \":\n",
        "\n",
        "Strip the leading and trailing whitespace.\n",
        "\n",
        "Check if the string starts with \"Hello\".\n",
        "\n",
        "Split the string into a list of words.\n",
        "\n",
        "Join the words back with a hyphen (-) as the separator."
      ],
      "metadata": {
        "id": "F6nHWFrQLeuG"
      }
    },
    {
      "cell_type": "code",
      "source": [
        "name=\"hello world\"\n",
        "print(f\"strip : {name.strip('')}\")\n",
        "print(f\"check : {name.startswith('hello')}\")\n",
        "print(f\"split: {name.split()}\")\n",
        "print(f\"joining : {'-'.join(name)}\")"
      ],
      "metadata": {
        "colab": {
          "base_uri": "https://localhost:8080/"
        },
        "id": "tRceYLMQId-u",
        "outputId": "b77bc881-0314-4426-c1f3-6b2ebf873997"
      },
      "execution_count": 34,
      "outputs": [
        {
          "output_type": "stream",
          "name": "stdout",
          "text": [
            "strip : hello world\n",
            "check : True\n",
            "split: ['hello', 'world']\n",
            "joining : h-e-l-l-o- -w-o-r-l-d\n"
          ]
        }
      ]
    },
    {
      "cell_type": "markdown",
      "source": [
        "Write a Python program that:\n",
        "\n",
        "Asks the user to input their full name.\n",
        "\n",
        "Outputs the initials in uppercase (e.g., John Doe → JD).\n",
        "\n",
        "Checks if the name contains only alphabetic characters"
      ],
      "metadata": {
        "id": "LNjQnqR3NI1r"
      }
    },
    {
      "cell_type": "code",
      "source": [
        "user=input(\"enter full name\")\n",
        "if user.isupper():\n",
        "  print(\"correct input\")\n",
        "else:\n",
        "  print(\"write all first alp capital\")\n",
        ""
      ],
      "metadata": {
        "colab": {
          "base_uri": "https://localhost:8080/"
        },
        "id": "t-6-du9YL1fe",
        "outputId": "418053c3-7c4e-4f47-eab5-c756200dfc6b"
      },
      "execution_count": 24,
      "outputs": [
        {
          "output_type": "stream",
          "name": "stdout",
          "text": [
            "enter full namemohammed hashir maaz\n",
            "write all first alp capital\n"
          ]
        }
      ]
    },
    {
      "cell_type": "code",
      "source": [
        "user=input(\"enter full name: \")\n",
        "if user.isupper():\n",
        "  print(\"correct input\")\n",
        "else:\n",
        "  print(\"write all first alp capital\")"
      ],
      "metadata": {
        "colab": {
          "base_uri": "https://localhost:8080/"
        },
        "id": "usKBMusyNmZB",
        "outputId": "f480c853-acd1-47e3-bfc7-facbc76bba6b"
      },
      "execution_count": 27,
      "outputs": [
        {
          "output_type": "stream",
          "name": "stdout",
          "text": [
            "enter full name: M\n",
            "correct input\n"
          ]
        }
      ]
    },
    {
      "cell_type": "markdown",
      "source": [
        "Given an email string like \"student123@university.edu\":\n",
        "\n",
        "Extract and print the username part (before @).\n",
        "\n",
        "Extract the domain name (after @).\n",
        "\n"
      ],
      "metadata": {
        "id": "NCz_Fo0UN66T"
      }
    },
    {
      "cell_type": "code",
      "source": [
        "name=\"student123@university.edu\"\n",
        "print(f\"name : {name[0:10]}\")\n",
        "print(f\"name : {name[11:25]}\")"
      ],
      "metadata": {
        "colab": {
          "base_uri": "https://localhost:8080/"
        },
        "id": "BzwlheN3NtnX",
        "outputId": "9343b8b7-fd89-4f42-cc92-838ea35ff3dc"
      },
      "execution_count": 30,
      "outputs": [
        {
          "output_type": "stream",
          "name": "stdout",
          "text": [
            "name : student123\n",
            "name : university.edu\n"
          ]
        }
      ]
    },
    {
      "cell_type": "code",
      "source": [
        "email = \"student123@university.edu\"\n",
        "\n",
        "# Split the email\n",
        "\n",
        "domain = email.split('@')[1]\n",
        "\n",
        "print(f\"Domain: {domain}\")\n"
      ],
      "metadata": {
        "colab": {
          "base_uri": "https://localhost:8080/"
        },
        "id": "9G_G12eFOPvl",
        "outputId": "e63dd612-c41c-4de0-c2bf-073272265370"
      },
      "execution_count": 33,
      "outputs": [
        {
          "output_type": "stream",
          "name": "stdout",
          "text": [
            "Domain: university.edu\n"
          ]
        }
      ]
    },
    {
      "cell_type": "code",
      "source": [],
      "metadata": {
        "id": "xE7SOL9iOxY6"
      },
      "execution_count": null,
      "outputs": []
    }
  ]
}