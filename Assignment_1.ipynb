{
  "nbformat": 4,
  "nbformat_minor": 0,
  "metadata": {
    "colab": {
      "provenance": [],
      "authorship_tag": "ABX9TyO5wLalqvaDsOEV0EnxJZjX",
      "include_colab_link": true
    },
    "kernelspec": {
      "name": "python3",
      "display_name": "Python 3"
    },
    "language_info": {
      "name": "python"
    }
  },
  "cells": [
    {
      "cell_type": "markdown",
      "metadata": {
        "id": "view-in-github",
        "colab_type": "text"
      },
      "source": [
        "<a href=\"https://colab.research.google.com/github/MohammedHashir1/Assignments/blob/main/Assignment_1.ipynb\" target=\"_parent\"><img src=\"https://colab.research.google.com/assets/colab-badge.svg\" alt=\"Open In Colab\"/></a>"
      ]
    },
    {
      "cell_type": "markdown",
      "source": [
        "ASSIGNMENT"
      ],
      "metadata": {
        "id": "8HDHoImW9rj8"
      }
    },
    {
      "cell_type": "code",
      "source": [
        "# 1.find out all the types of error that we have encounterd in lecture and why, include the examples?\n",
        "\n",
        "\n",
        "# A\n",
        "a,b,c,d,yes= 10,20,30,40\n",
        "type (a)\n",
        "# here the mistake is we have assign 5 variables and only given 4 values to them\n"
      ],
      "metadata": {
        "colab": {
          "base_uri": "https://localhost:8080/",
          "height": 211
        },
        "id": "Q3ieOoYN9tJ_",
        "outputId": "48c054e4-d2c8-4b8a-d25a-73ed6e098544"
      },
      "execution_count": 2,
      "outputs": [
        {
          "output_type": "error",
          "ename": "ValueError",
          "evalue": "not enough values to unpack (expected 5, got 4)",
          "traceback": [
            "\u001b[0;31m---------------------------------------------------------------------------\u001b[0m",
            "\u001b[0;31mValueError\u001b[0m                                Traceback (most recent call last)",
            "\u001b[0;32m<ipython-input-2-2c83f190939b>\u001b[0m in \u001b[0;36m<cell line: 0>\u001b[0;34m()\u001b[0m\n\u001b[1;32m      3\u001b[0m \u001b[0;34m\u001b[0m\u001b[0m\n\u001b[1;32m      4\u001b[0m \u001b[0;31m# A\u001b[0m\u001b[0;34m\u001b[0m\u001b[0;34m\u001b[0m\u001b[0m\n\u001b[0;32m----> 5\u001b[0;31m \u001b[0ma\u001b[0m\u001b[0;34m,\u001b[0m\u001b[0mb\u001b[0m\u001b[0;34m,\u001b[0m\u001b[0mc\u001b[0m\u001b[0;34m,\u001b[0m\u001b[0md\u001b[0m\u001b[0;34m,\u001b[0m\u001b[0myes\u001b[0m\u001b[0;34m=\u001b[0m \u001b[0;36m10\u001b[0m\u001b[0;34m,\u001b[0m\u001b[0;36m20\u001b[0m\u001b[0;34m,\u001b[0m\u001b[0;36m30\u001b[0m\u001b[0;34m,\u001b[0m\u001b[0;36m40\u001b[0m\u001b[0;34m\u001b[0m\u001b[0;34m\u001b[0m\u001b[0m\n\u001b[0m\u001b[1;32m      6\u001b[0m \u001b[0mtype\u001b[0m \u001b[0;34m(\u001b[0m\u001b[0ma\u001b[0m\u001b[0;34m)\u001b[0m\u001b[0;34m\u001b[0m\u001b[0;34m\u001b[0m\u001b[0m\n\u001b[1;32m      7\u001b[0m \u001b[0;31m# here the mistake is we have assign 5 variables and only given 4 values to them\u001b[0m\u001b[0;34m\u001b[0m\u001b[0;34m\u001b[0m\u001b[0m\n",
            "\u001b[0;31mValueError\u001b[0m: not enough values to unpack (expected 5, got 4)"
          ]
        }
      ]
    },
    {
      "cell_type": "code",
      "source": [
        "# B\n",
        "a=input(\"enter a number :\")\n",
        "b=input(\"enter a number :\")\n",
        "print(f\"sum of a and b:{a+b}\")\n",
        "# here the mistake is we didnt add \"int\" by this it knows its a number and then he could add it"
      ],
      "metadata": {
        "colab": {
          "base_uri": "https://localhost:8080/"
        },
        "id": "U54VWzfzBKFm",
        "outputId": "ef77c9ea-9e3d-4e39-ef1c-30ee608d62ec"
      },
      "execution_count": 5,
      "outputs": [
        {
          "output_type": "stream",
          "name": "stdout",
          "text": [
            "enter a number :5\n",
            "enter a number :5\n",
            "sum of a and b:55\n"
          ]
        }
      ]
    },
    {
      "cell_type": "code",
      "source": [
        "# C\n",
        "a=\"\"\n",
        "print(f\"the value before:{a}\")\n",
        "a=int(a)\n",
        "print(f\"the value after:{a}\")\n",
        "# here the mistake is we didnt add any value and told it to convert empty value into integer its an error"
      ],
      "metadata": {
        "colab": {
          "base_uri": "https://localhost:8080/",
          "height": 211
        },
        "id": "VAGINbB_ESwl",
        "outputId": "c46dfcd7-1bba-45f2-892b-ab2d69371038"
      },
      "execution_count": 7,
      "outputs": [
        {
          "output_type": "stream",
          "name": "stdout",
          "text": [
            "the value before:\n"
          ]
        },
        {
          "output_type": "error",
          "ename": "ValueError",
          "evalue": "invalid literal for int() with base 10: ''",
          "traceback": [
            "\u001b[0;31m---------------------------------------------------------------------------\u001b[0m",
            "\u001b[0;31mValueError\u001b[0m                                Traceback (most recent call last)",
            "\u001b[0;32m<ipython-input-7-9544b74a3cf8>\u001b[0m in \u001b[0;36m<cell line: 0>\u001b[0;34m()\u001b[0m\n\u001b[1;32m      1\u001b[0m \u001b[0ma\u001b[0m\u001b[0;34m=\u001b[0m\u001b[0;34m\"\"\u001b[0m\u001b[0;34m\u001b[0m\u001b[0;34m\u001b[0m\u001b[0m\n\u001b[1;32m      2\u001b[0m \u001b[0mprint\u001b[0m\u001b[0;34m(\u001b[0m\u001b[0;34mf\"the value before:{a}\"\u001b[0m\u001b[0;34m)\u001b[0m\u001b[0;34m\u001b[0m\u001b[0;34m\u001b[0m\u001b[0m\n\u001b[0;32m----> 3\u001b[0;31m \u001b[0ma\u001b[0m\u001b[0;34m=\u001b[0m\u001b[0mint\u001b[0m\u001b[0;34m(\u001b[0m\u001b[0ma\u001b[0m\u001b[0;34m)\u001b[0m\u001b[0;34m\u001b[0m\u001b[0;34m\u001b[0m\u001b[0m\n\u001b[0m\u001b[1;32m      4\u001b[0m \u001b[0mprint\u001b[0m\u001b[0;34m(\u001b[0m\u001b[0;34mf\"the value after:{a}\"\u001b[0m\u001b[0;34m)\u001b[0m\u001b[0;34m\u001b[0m\u001b[0;34m\u001b[0m\u001b[0m\n",
            "\u001b[0;31mValueError\u001b[0m: invalid literal for int() with base 10: ''"
          ]
        }
      ]
    },
    {
      "cell_type": "code",
      "source": [
        "# 2.Take input A and B and print their sum,multiplication,division,square of the numbers\n",
        "\n",
        "a=int(4)\n",
        "b=int(2)\n",
        "print(f\"print sum,mul,div,square :{a+b},{a-b},{a/b},{a**b}\")"
      ],
      "metadata": {
        "colab": {
          "base_uri": "https://localhost:8080/"
        },
        "id": "kHYb3GciM1ik",
        "outputId": "351c6019-4648-4796-a95c-4141d7c56624"
      },
      "execution_count": 16,
      "outputs": [
        {
          "output_type": "stream",
          "name": "stdout",
          "text": [
            "print sum,mul,div,square :6,2,2.0,16\n"
          ]
        }
      ]
    },
    {
      "cell_type": "code",
      "source": [
        "# 3. how many reserve keywords are there in python and why we should not use them as a variable name\n",
        "\n",
        "# sol: THERE ARE TOTAL 36 RESERVED KEYWORDS IN PYTHON THEY ARE BELOW\n",
        "#False      await      else       import     pass\n",
        "#None       break      except     in         raise\n",
        "#True       class      finally    is         return\n",
        "#and        continue   for        lambda     try\n",
        "#as         def        from       nonlocal   while\n",
        "#assert     del        global     not        with\n",
        "#async      elif       if         or         yield\n",
        "\n",
        "# IF WE USE IT AS VARIABLE VALUE THEN IT CANT BE FURTHUR USED UNLESS WE PUT \"DEL(PRINT)\" BECAUSE WE HAVE ASSIGNED THE VALUE FOR IT\n",
        ""
      ],
      "metadata": {
        "id": "gzBBp3CqNmaQ"
      },
      "execution_count": 17,
      "outputs": []
    },
    {
      "cell_type": "code",
      "source": [
        "# 4. create email ids with the user input in the following format--lastname.firstname@gamil.com\n",
        "\n",
        "last_name=input(\"your last name:\")\n",
        "first_name=input(\"your first name:\")\n",
        "print(f\"your email id is:{last_name}.{first_name}@gamil.com\")"
      ],
      "metadata": {
        "colab": {
          "base_uri": "https://localhost:8080/"
        },
        "id": "VfuvsYF9Qbai",
        "outputId": "52580c81-fe96-4cb1-9645-cc09444dfe99"
      },
      "execution_count": 26,
      "outputs": [
        {
          "output_type": "stream",
          "name": "stdout",
          "text": [
            "your last name:maaz\n",
            "your first name:hashir\n",
            "your email id is:maaz.hashir@gamil.com\n"
          ]
        }
      ]
    },
    {
      "cell_type": "code",
      "source": [
        "a=input(\"your last name:\")\n",
        "b=input(\"your first name:\")\n",
        "print(f\"your email id is:{a}{b}@gmail.com\")"
      ],
      "metadata": {
        "colab": {
          "base_uri": "https://localhost:8080/"
        },
        "id": "IRzzJOWHXNab",
        "outputId": "866040d3-27dc-4aef-ccb9-482e65a07de8"
      },
      "execution_count": 30,
      "outputs": [
        {
          "output_type": "stream",
          "name": "stdout",
          "text": [
            "your last name:Mohammed\n",
            "your first name:HashirMaaz\n",
            "your email id is:MohammedHashirMaaz@gmail.com\n"
          ]
        }
      ]
    },
    {
      "cell_type": "code",
      "source": [
        "# 5. Try to print the following line --hi im sunny,--my address is 22/3\n",
        "\n",
        "print(\"\"\"Hi im sunny\n",
        "my address is 22/3\"\"\")"
      ],
      "metadata": {
        "colab": {
          "base_uri": "https://localhost:8080/"
        },
        "id": "2N6ZO3JWZmV_",
        "outputId": "559425e4-d38f-4a2c-81b5-b177c266b2e0"
      },
      "execution_count": 31,
      "outputs": [
        {
          "output_type": "stream",
          "name": "stdout",
          "text": [
            "Hi im sunny\n",
            "my address is 22/3\n"
          ]
        }
      ]
    },
    {
      "cell_type": "code",
      "source": [
        "# 6. take user input to fill a print form for your college and their email ids {name,address,date of birth}\n",
        "\n",
        "print(\"student form\")\n",
        "a=input(\"your name:\")\n",
        "c=input(\"your DOB:\")\n",
        "b=input(\"address:\")\n",
        "d=input(\"email id:\")\n",
        "print(f\"\"\"check your details:{a}\n",
        "      {c}\n",
        "      {b}\n",
        "      {d}\"\"\")"
      ],
      "metadata": {
        "colab": {
          "base_uri": "https://localhost:8080/"
        },
        "id": "RySiYkauaiTQ",
        "outputId": "2ba51a52-ccf2-4f96-b591-8ed276a907a2"
      },
      "execution_count": 33,
      "outputs": [
        {
          "output_type": "stream",
          "name": "stdout",
          "text": [
            "student form\n",
            "your name:k\n",
            "your DOB:d\n",
            "address:s\n",
            "email id:s\n",
            "check your details:k\n",
            "      d\n",
            "      s\n",
            "      s\n"
          ]
        }
      ]
    },
    {
      "cell_type": "code",
      "source": [
        "# 7. Convert the following --22.6 into int,--22 into complex\n",
        "\n",
        "a=float(22.6)\n",
        "print(f\"value before:{a}\")\n",
        "a=int(a)\n",
        "print(f\"value after:{a}\")"
      ],
      "metadata": {
        "colab": {
          "base_uri": "https://localhost:8080/"
        },
        "id": "JLxmIKktb1Mk",
        "outputId": "956ddb40-c762-4dcb-e2e0-75dcec254daf"
      },
      "execution_count": 35,
      "outputs": [
        {
          "output_type": "stream",
          "name": "stdout",
          "text": [
            "value before:22.6\n",
            "value after:22\n"
          ]
        }
      ]
    },
    {
      "cell_type": "code",
      "source": [],
      "metadata": {
        "id": "kr4D4mQbgULG"
      },
      "execution_count": null,
      "outputs": []
    }
  ]
}