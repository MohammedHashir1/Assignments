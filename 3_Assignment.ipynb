{
  "cells": [
    {
      "cell_type": "markdown",
      "metadata": {
        "id": "view-in-github",
        "colab_type": "text"
      },
      "source": [
        "<a href=\"https://colab.research.google.com/github/MohammedHashir1/Assignments/blob/main/3_Assignment.ipynb\" target=\"_parent\"><img src=\"https://colab.research.google.com/assets/colab-badge.svg\" alt=\"Open In Colab\"/></a>"
      ]
    },
    {
      "cell_type": "markdown",
      "metadata": {
        "id": "jUSw-wtGO-MX"
      },
      "source": [
        "# if amount greater than 999 give discount of 70/100\n",
        "#if less than or 999 and greater than 499 give discount of 80/100\n",
        "#if its more than 1499 give discount of 90/100\n",
        "# if less than 499 give no discount\n",
        "{use if elif else method}"
      ]
    },
    {
      "cell_type": "code",
      "execution_count": null,
      "metadata": {
        "colab": {
          "base_uri": "https://localhost:8080/"
        },
        "id": "RCOfK-P2OK_S",
        "outputId": "b9e097b4-1782-4a30-9e8c-00a885db93c0"
      },
      "outputs": [
        {
          "name": "stdout",
          "output_type": "stream",
          "text": [
            " you got 80% off :770.0\n"
          ]
        }
      ],
      "source": [
        "Grocery_List=90+10+400+600\n",
        "if Grocery_List >=999:\n",
        "  Grocery_List= Grocery_List * 70/100\n",
        "  print(f\" you got 80% off :{Grocery_List}\")\n",
        "elif Grocery_List < 999 and Grocery_List >= 499 :\n",
        "    Grocery_List= Grocery_List * 80/100\n",
        "    print(f\" you got 80% off :{Grocery_List}\")\n",
        "else :\n",
        "      print(f\"no discount\")\n"
      ]
    },
    {
      "cell_type": "code",
      "execution_count": null,
      "metadata": {
        "colab": {
          "base_uri": "https://localhost:8080/"
        },
        "id": "Pc-lAK4oShmF",
        "outputId": "a2a0b6a9-c083-4de9-ac2f-63e93a9c8918"
      },
      "outputs": [
        {
          "name": "stdout",
          "output_type": "stream",
          "text": [
            "no discount\n"
          ]
        }
      ],
      "source": [
        "Grocery_List=90+10+40\n",
        "if Grocery_List >=999:\n",
        "  Grocery_List= Grocery_List * 70/100\n",
        "  print(f\" you got 80% off :{Grocery_List}\")\n",
        "elif Grocery_List < 999 and Grocery_List >= 499 :\n",
        "    Grocery_List= Grocery_List * 80/100\n",
        "    print(f\" you got 80% off :{Grocery_List}\")\n",
        "else :\n",
        "      print(f\"no discount\")"
      ]
    },
    {
      "cell_type": "code",
      "execution_count": null,
      "metadata": {
        "colab": {
          "base_uri": "https://localhost:8080/"
        },
        "id": "SJIDPWc9TjHE",
        "outputId": "899793ba-df29-444a-ee60-7234d95f4ad6"
      },
      "outputs": [
        {
          "name": "stdout",
          "output_type": "stream",
          "text": [
            " you got 80% off :400.0\n"
          ]
        }
      ],
      "source": [
        "Grocery_List=90+10+400\n",
        "if Grocery_List >=999:\n",
        "  Grocery_List= Grocery_List * 70/100\n",
        "  print(f\" you got 80% off :{Grocery_List}\")\n",
        "elif Grocery_List < 999 and Grocery_List >= 499 :\n",
        "    Grocery_List= Grocery_List * 80/100\n",
        "    print(f\" you got 80% off :{Grocery_List}\")\n",
        "else :\n",
        "      print(f\"no discount\")"
      ]
    },
    {
      "cell_type": "code",
      "execution_count": null,
      "metadata": {
        "colab": {
          "base_uri": "https://localhost:8080/"
        },
        "id": "CuLUQHhGTlNS",
        "outputId": "49b0e6d8-fc8a-4117-e2b7-5c2be8c94d83"
      },
      "outputs": [
        {
          "name": "stdout",
          "output_type": "stream",
          "text": [
            " you got 80% off :1470.0\n"
          ]
        }
      ],
      "source": [
        "Grocery_List=90+10+400+1600\n",
        "if Grocery_List >=1499:\n",
        "  Grocery_List= Grocery_List * 70/100\n",
        "  print(f\" you got 80% off :{Grocery_List}\")\n",
        "elif Grocery_List<1499:\n",
        "  Grocery_List=Grocery_List*90/100\n",
        "  print(f\" you got 90% off :{Grocery_List}\")\n",
        "\n",
        "\n",
        "else :\n",
        "      print(f\"no discount\")"
      ]
    },
    {
      "cell_type": "markdown",
      "metadata": {
        "id": "LWkimAgvWyqH"
      },
      "source": [
        "Nested if else"
      ]
    },
    {
      "cell_type": "code",
      "execution_count": null,
      "metadata": {
        "colab": {
          "base_uri": "https://localhost:8080/"
        },
        "id": "G7I4rpv1WyHc",
        "outputId": "af7e0043-1301-4333-d31d-2cf4faf27022"
      },
      "outputs": [
        {
          "name": "stdout",
          "output_type": "stream",
          "text": [
            "enter a number: 5\n",
            "the number is positive\n"
          ]
        }
      ],
      "source": [
        "number=float(input(\"enter a number: \"))\n",
        "if number<=0:\n",
        "  print(f\"the number is zero\")\n",
        "if number> 0 :\n",
        "  print(f\"the number is positive\")\n",
        "else:\n",
        "    print(\"the number is negative\")\n",
        "\n"
      ]
    },
    {
      "cell_type": "markdown",
      "metadata": {
        "id": "YkGLFCQuYGh6"
      },
      "source": [
        "SINGLE LINE IF ELSE\n",
        "\n",
        "print 90 if the number is greater than 99"
      ]
    },
    {
      "cell_type": "code",
      "execution_count": null,
      "metadata": {
        "colab": {
          "base_uri": "https://localhost:8080/"
        },
        "id": "2zdKVQcCUVK7",
        "outputId": "eef78592-7f3d-4a64-a27a-67c6aca67d12"
      },
      "outputs": [
        {
          "name": "stdout",
          "output_type": "stream",
          "text": [
            "enter any number : 5\n"
          ]
        }
      ],
      "source": [
        "number=float(input(\"enter any number : \"))\n",
        "if number>=99:\n",
        "  print(f\"yes\")"
      ]
    },
    {
      "cell_type": "markdown",
      "metadata": {
        "id": "V4ORwSg1mO6E"
      },
      "source": [
        "while Loop"
      ]
    },
    {
      "cell_type": "code",
      "execution_count": null,
      "metadata": {
        "colab": {
          "base_uri": "https://localhost:8080/"
        },
        "id": "xstTJGjsnFAH",
        "outputId": "1a5ccfef-a8f9-43ea-e785-a7c2496bab74"
      },
      "outputs": [
        {
          "name": "stdout",
          "output_type": "stream",
          "text": [
            "the sum of : 2\n",
            "the sum of : 4\n",
            "the sum of : 6\n",
            "the sum of : 8\n",
            "the sum of : 10\n"
          ]
        }
      ],
      "source": [
        "note=5\n",
        "i=1\n",
        "while i<=note:\n",
        "  print(f\"the sum of : {i*2}\")\n",
        "  i=i+1"
      ]
    },
    {
      "cell_type": "code",
      "execution_count": null,
      "metadata": {
        "colab": {
          "base_uri": "https://localhost:8080/"
        },
        "id": "CCysKvgQp6Hp",
        "outputId": "c0e3171d-ec50-4394-d92c-d9706fbcfe0a"
      },
      "outputs": [
        {
          "name": "stdout",
          "output_type": "stream",
          "text": [
            "count to 10: 0\n",
            "count to 10: 1\n",
            "count to 10: 2\n",
            "count to 10: 3\n",
            "count to 10: 4\n",
            "count to 10: 5\n",
            "count to 10: 6\n",
            "count to 10: 7\n",
            "count to 10: 8\n",
            "count to 10: 9\n",
            "count to 10: 10\n"
          ]
        }
      ],
      "source": [
        "i=\n",
        "while i<=10:\n",
        "  i=i+1"
      ]
    },
    {
      "cell_type": "code",
      "execution_count": null,
      "metadata": {
        "colab": {
          "base_uri": "https://localhost:8080/"
        },
        "id": "23PJz265vM9e",
        "outputId": "0cde20cf-9234-4d45-d7af-27ae5a0f2bc6"
      },
      "outputs": [
        {
          "name": "stdout",
          "output_type": "stream",
          "text": [
            "even numbers : 0\n",
            "even numbers : 2\n",
            "even numbers : 4\n",
            "even numbers : 6\n",
            "even numbers : 8\n",
            "even numbers : 10\n",
            "even numbers : 12\n",
            "even numbers : 14\n",
            "even numbers : 16\n",
            "even numbers : 18\n",
            "even numbers : 20\n"
          ]
        }
      ],
      "source": [
        "i = 0\n",
        "while i <= 20 :\n",
        "\n",
        "    print(f\"even numbers : {i}\")\n",
        "    i = i + 2\n"
      ]
    },
    {
      "cell_type": "code",
      "execution_count": null,
      "metadata": {
        "colab": {
          "base_uri": "https://localhost:8080/"
        },
        "id": "7Y1Xzp8rxOVt",
        "outputId": "0ae6e022-191c-4416-f1ac-e8c36071a787"
      },
      "outputs": [
        {
          "name": "stdout",
          "output_type": "stream",
          "text": [
            "sum : 0\n",
            "sum : 1\n",
            "sum : 2\n",
            "sum : 3\n",
            "sum : 4\n",
            "sum : 5\n"
          ]
        }
      ],
      "source": [
        "i=0\n",
        "while i<=5:\n",
        "  print(f\"sum : {i}\")\n",
        "  i=i+1"
      ]
    },
    {
      "cell_type": "code",
      "execution_count": 24,
      "metadata": {
        "id": "5mf3W5VkzT46",
        "colab": {
          "base_uri": "https://localhost:8080/"
        },
        "outputId": "5c9ef6e8-a62b-4e08-a9b4-86ac9a0fcc3a"
      },
      "outputs": [
        {
          "output_type": "stream",
          "name": "stdout",
          "text": [
            "100\n",
            "99\n",
            "98\n",
            "97\n",
            "96\n",
            "95\n",
            "94\n",
            "93\n",
            "92\n",
            "91\n",
            "90\n",
            "89\n",
            "88\n",
            "87\n",
            "86\n",
            "85\n",
            "84\n",
            "83\n",
            "82\n",
            "81\n",
            "80\n",
            "79\n",
            "78\n",
            "77\n",
            "76\n",
            "75\n",
            "74\n",
            "73\n",
            "72\n",
            "71\n",
            "70\n",
            "69\n",
            "68\n",
            "67\n",
            "66\n",
            "65\n",
            "64\n",
            "63\n",
            "62\n",
            "61\n",
            "60\n",
            "59\n",
            "58\n",
            "57\n",
            "56\n",
            "55\n",
            "54\n",
            "53\n",
            "52\n",
            "51\n",
            "50\n",
            "49\n",
            "48\n",
            "47\n",
            "46\n",
            "45\n",
            "44\n",
            "43\n",
            "42\n",
            "41\n",
            "40\n",
            "39\n",
            "38\n",
            "37\n",
            "36\n",
            "35\n",
            "34\n",
            "33\n",
            "32\n",
            "31\n",
            "30\n",
            "29\n",
            "28\n",
            "27\n",
            "26\n",
            "25\n",
            "24\n",
            "23\n",
            "22\n",
            "21\n",
            "20\n",
            "19\n",
            "18\n",
            "17\n",
            "16\n",
            "15\n",
            "14\n",
            "13\n",
            "12\n",
            "11\n",
            "10\n",
            "9\n",
            "8\n",
            "7\n",
            "6\n",
            "5\n",
            "4\n",
            "3\n",
            "2\n",
            "1\n"
          ]
        }
      ],
      "source": [
        "i=100\n",
        "while i>=1:\n",
        "  print(i)\n",
        "  i=i-1"
      ]
    },
    {
      "cell_type": "code",
      "source": [
        "n=0\n",
        "while n<=20:\n",
        " print(n)\n",
        " n=n+2"
      ],
      "metadata": {
        "colab": {
          "base_uri": "https://localhost:8080/"
        },
        "id": "1gHTR0C0oiPU",
        "outputId": "3ad4ff1c-6c3c-493e-ea22-1412795495d4"
      },
      "execution_count": 38,
      "outputs": [
        {
          "output_type": "stream",
          "name": "stdout",
          "text": [
            "0\n",
            "2\n",
            "4\n",
            "6\n",
            "8\n",
            "10\n",
            "12\n",
            "14\n",
            "16\n",
            "18\n",
            "20\n"
          ]
        }
      ]
    },
    {
      "cell_type": "code",
      "source": [
        "n=1\n",
        "while n<=10:\n",
        "  print(f\"2 X {n}={2*n}\")\n",
        "  n=n+1"
      ],
      "metadata": {
        "colab": {
          "base_uri": "https://localhost:8080/"
        },
        "id": "6qtGVqfZqjuH",
        "outputId": "15ca6375-a021-4649-c517-232ab551198a"
      },
      "execution_count": 65,
      "outputs": [
        {
          "output_type": "stream",
          "name": "stdout",
          "text": [
            "2 X 1=2\n",
            "2 X 2=4\n",
            "2 X 3=6\n",
            "2 X 4=8\n",
            "2 X 5=10\n",
            "2 X 6=12\n",
            "2 X 7=14\n",
            "2 X 8=16\n",
            "2 X 9=18\n",
            "2 X 10=20\n"
          ]
        }
      ]
    },
    {
      "cell_type": "code",
      "source": [
        "i=1\n",
        "while i<=10:\n",
        "  print(f\"2 X {i} = {2*i}\")\n",
        "  i=i+1"
      ],
      "metadata": {
        "colab": {
          "base_uri": "https://localhost:8080/"
        },
        "id": "5_V2X8dyt0wE",
        "outputId": "3c715841-9a1c-428d-ae06-d2366235d682"
      },
      "execution_count": 67,
      "outputs": [
        {
          "output_type": "stream",
          "name": "stdout",
          "text": [
            "2 X 1 = 2\n",
            "2 X 2 = 4\n",
            "2 X 3 = 6\n",
            "2 X 4 = 8\n",
            "2 X 5 = 10\n",
            "2 X 6 = 12\n",
            "2 X 7 = 14\n",
            "2 X 8 = 16\n",
            "2 X 9 = 18\n",
            "2 X 10 = 20\n"
          ]
        }
      ]
    },
    {
      "cell_type": "code",
      "source": [
        "i=1\n",
        "while i<=10:\n",
        "  print(i*4)\n",
        "  i=i+1"
      ],
      "metadata": {
        "id": "bN2Jw72Jt9kM",
        "outputId": "1bd40913-9314-436f-ab25-4f26d183ca4e",
        "colab": {
          "base_uri": "https://localhost:8080/"
        }
      },
      "execution_count": 69,
      "outputs": [
        {
          "output_type": "stream",
          "name": "stdout",
          "text": [
            "4\n",
            "8\n",
            "12\n",
            "16\n",
            "20\n",
            "24\n",
            "28\n",
            "32\n",
            "36\n",
            "40\n"
          ]
        }
      ]
    },
    {
      "cell_type": "code",
      "source": [
        "i=2\n",
        "while i<=20:\n",
        "  print(i*2)\n",
        "  i=i+1"
      ],
      "metadata": {
        "id": "KCmfG0j5uZP0",
        "outputId": "2bd5eedf-7a70-4985-df32-becec14b03e9",
        "colab": {
          "base_uri": "https://localhost:8080/"
        }
      },
      "execution_count": 70,
      "outputs": [
        {
          "output_type": "stream",
          "name": "stdout",
          "text": [
            "4\n",
            "6\n",
            "8\n",
            "10\n",
            "12\n",
            "14\n",
            "16\n",
            "18\n",
            "20\n",
            "22\n",
            "24\n",
            "26\n",
            "28\n",
            "30\n",
            "32\n",
            "34\n",
            "36\n",
            "38\n",
            "40\n"
          ]
        }
      ]
    },
    {
      "cell_type": "code",
      "source": [
        "i=int(input(\"enter any number :\"))\n",
        "while i<=10:\n",
        "  print(i*2)\n",
        "  i=i+1"
      ],
      "metadata": {
        "id": "kZfRq76SuqM_",
        "outputId": "09e638a7-6ad8-4ae7-93fe-abf3639b9fa1",
        "colab": {
          "base_uri": "https://localhost:8080/"
        }
      },
      "execution_count": 72,
      "outputs": [
        {
          "output_type": "stream",
          "name": "stdout",
          "text": [
            "enter any number :3\n",
            "6\n",
            "8\n",
            "10\n",
            "12\n",
            "14\n",
            "16\n",
            "18\n",
            "20\n"
          ]
        }
      ]
    },
    {
      "cell_type": "code",
      "source": [
        "num=(1,4,9,16,25,36,49,64,81,100)\n",
        "idx=0\n",
        "while idx<len(num):\n",
        "  print(num[idx])\n",
        "  idx+=1\n"
      ],
      "metadata": {
        "id": "X4Fv1k7Tu_J2",
        "outputId": "7ed5cca7-9e26-4c19-89b1-d9cb33a100ad",
        "colab": {
          "base_uri": "https://localhost:8080/"
        }
      },
      "execution_count": 74,
      "outputs": [
        {
          "output_type": "stream",
          "name": "stdout",
          "text": [
            "1\n",
            "4\n",
            "9\n",
            "16\n",
            "25\n",
            "36\n",
            "49\n",
            "64\n",
            "81\n",
            "100\n"
          ]
        }
      ]
    },
    {
      "cell_type": "code",
      "source": [
        "num=(1, 8, 27, 64, 125, 216, 343, 512, 729, 1000)\n",
        "i=0\n",
        "while i<len(num):\n",
        " print(num[i])\n",
        " i+=1"
      ],
      "metadata": {
        "id": "Ma9vFR7sylh3",
        "outputId": "7cdfa4a0-d09e-4f26-ca78-670abe8b2888",
        "colab": {
          "base_uri": "https://localhost:8080/"
        }
      },
      "execution_count": 80,
      "outputs": [
        {
          "output_type": "stream",
          "name": "stdout",
          "text": [
            "1\n",
            "8\n",
            "27\n",
            "64\n",
            "125\n",
            "216\n",
            "343\n",
            "512\n",
            "729\n",
            "1000\n"
          ]
        }
      ]
    },
    {
      "cell_type": "code",
      "source": [
        "num=(1,4,9,16,25,36,49,64,81,100)\n",
        "x=81\n",
        "i=0\n",
        "while i< len(num):\n",
        "  if(num[i]== x):\n",
        "   print(\"found x at\",i)\n",
        "  i+=1"
      ],
      "metadata": {
        "id": "QXcj6AaIzXQa",
        "outputId": "a5cd24c1-0794-4a22-9cb5-d5a945ddc0e4",
        "colab": {
          "base_uri": "https://localhost:8080/"
        }
      },
      "execution_count": 82,
      "outputs": [
        {
          "output_type": "stream",
          "name": "stdout",
          "text": [
            "found x at 8\n"
          ]
        }
      ]
    },
    {
      "cell_type": "code",
      "source": [
        "n=400,499,88\n",
        "for i in n:\n",
        "  print(i)"
      ],
      "metadata": {
        "id": "IpoasQbhCzw3",
        "outputId": "2409b771-eb65-4849-d65e-ea76ea0e0497",
        "colab": {
          "base_uri": "https://localhost:8080/"
        }
      },
      "execution_count": 83,
      "outputs": [
        {
          "output_type": "stream",
          "name": "stdout",
          "text": [
            "400\n",
            "499\n",
            "88\n"
          ]
        }
      ]
    },
    {
      "cell_type": "code",
      "source": [
        "  n=(1,4,9,16,25,36,49,64,81,100)\n",
        "  for i in n:\n",
        "    print(i)"
      ],
      "metadata": {
        "id": "VRm47WO9ElVg",
        "outputId": "79847c0a-017f-4488-d21c-ba864070994a",
        "colab": {
          "base_uri": "https://localhost:8080/"
        }
      },
      "execution_count": 84,
      "outputs": [
        {
          "output_type": "stream",
          "name": "stdout",
          "text": [
            "1\n",
            "4\n",
            "9\n",
            "16\n",
            "25\n",
            "36\n",
            "49\n",
            "64\n",
            "81\n",
            "100\n"
          ]
        }
      ]
    },
    {
      "cell_type": "code",
      "source": [
        "n=(1,4,9,16,25,36,49,64,81,100)\n",
        "x=36\n",
        "i=0\n",
        "for i in n:\n",
        " if (i==x):\n",
        "    print(\"found at\",i)\n",
        "    i+=1"
      ],
      "metadata": {
        "id": "DkLns2IOFcb4",
        "outputId": "04011241-4b4d-4ca3-9612-ac98f28955c2",
        "colab": {
          "base_uri": "https://localhost:8080/"
        }
      },
      "execution_count": 94,
      "outputs": [
        {
          "output_type": "stream",
          "name": "stdout",
          "text": [
            "found at 36\n"
          ]
        }
      ]
    },
    {
      "cell_type": "code",
      "source": [
        " n = (1, 4, 9, 16, 25, 36, 49, 64, 81, 100)\n",
        "x = 36\n",
        "for i in n:\n",
        "    if i == x:\n",
        "        print(\"found at\", i)\n"
      ],
      "metadata": {
        "id": "hnwuAu36FxPW",
        "outputId": "30f68ecb-2249-480f-d2e5-226d4c966942",
        "colab": {
          "base_uri": "https://localhost:8080/"
        }
      },
      "execution_count": 95,
      "outputs": [
        {
          "output_type": "stream",
          "name": "stdout",
          "text": [
            "found at 36\n"
          ]
        }
      ]
    },
    {
      "cell_type": "code",
      "source": [],
      "metadata": {
        "id": "V5RjgR5BHkRL"
      },
      "execution_count": null,
      "outputs": []
    }
  ],
  "metadata": {
    "colab": {
      "provenance": [],
      "authorship_tag": "ABX9TyPwF6R6g2SstIqalRGjcTs9",
      "include_colab_link": true
    },
    "kernelspec": {
      "display_name": "Python 3",
      "name": "python3"
    },
    "language_info": {
      "name": "python"
    }
  },
  "nbformat": 4,
  "nbformat_minor": 0
}