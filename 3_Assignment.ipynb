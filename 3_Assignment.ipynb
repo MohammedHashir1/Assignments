{
  "nbformat": 4,
  "nbformat_minor": 0,
  "metadata": {
    "colab": {
      "provenance": [],
      "authorship_tag": "ABX9TyOcOLog41fIqDXPzq/Y2/7u",
      "include_colab_link": true
    },
    "kernelspec": {
      "name": "python3",
      "display_name": "Python 3"
    },
    "language_info": {
      "name": "python"
    }
  },
  "cells": [
    {
      "cell_type": "markdown",
      "metadata": {
        "id": "view-in-github",
        "colab_type": "text"
      },
      "source": [
        "<a href=\"https://colab.research.google.com/github/MohammedHashir1/Assignments/blob/main/3_Assignment.ipynb\" target=\"_parent\"><img src=\"https://colab.research.google.com/assets/colab-badge.svg\" alt=\"Open In Colab\"/></a>"
      ]
    },
    {
      "cell_type": "code",
      "execution_count": 1,
      "metadata": {
        "colab": {
          "base_uri": "https://localhost:8080/"
        },
        "id": "lrZk9p3L5YOy",
        "outputId": "9933c446-dac2-4b66-ab67-7de8e06246f3"
      },
      "outputs": [
        {
          "output_type": "stream",
          "name": "stdout",
          "text": [
            "4\n"
          ]
        }
      ],
      "source": [
        "print(4)"
      ]
    },
    {
      "cell_type": "code",
      "source": [
        "print(\"hello world\")"
      ],
      "metadata": {
        "colab": {
          "base_uri": "https://localhost:8080/"
        },
        "id": "lq5czpOW5i-i",
        "outputId": "5ce29b86-6b75-4939-e791-51499965cf4b"
      },
      "execution_count": 2,
      "outputs": [
        {
          "output_type": "stream",
          "name": "stdout",
          "text": [
            "hello world\n"
          ]
        }
      ]
    },
    {
      "cell_type": "code",
      "source": [
        "print(\"\"\"\n",
        "printing\n",
        "multi\n",
        "line\n",
        "\"\"\")"
      ],
      "metadata": {
        "colab": {
          "base_uri": "https://localhost:8080/"
        },
        "id": "Cgf7xEvu5nuf",
        "outputId": "bc03eaf6-0a02-4649-b25d-61d81a2d1639"
      },
      "execution_count": 3,
      "outputs": [
        {
          "output_type": "stream",
          "name": "stdout",
          "text": [
            "\n",
            "printing\n",
            "multi\n",
            "line\n",
            "\n"
          ]
        }
      ]
    },
    {
      "cell_type": "code",
      "source": [
        "#calculator\n",
        "22-120+589%555"
      ],
      "metadata": {
        "colab": {
          "base_uri": "https://localhost:8080/"
        },
        "id": "aK7D1lo75vfq",
        "outputId": "37f9e982-36cd-4196-fe52-22461eaa39e1"
      },
      "execution_count": 7,
      "outputs": [
        {
          "output_type": "execute_result",
          "data": {
            "text/plain": [
              "-64"
            ]
          },
          "metadata": {},
          "execution_count": 7
        }
      ]
    },
    {
      "cell_type": "code",
      "source": [
        "a=(\"name\",\"hashir\")\n",
        "b=(2,4,5)"
      ],
      "metadata": {
        "id": "n9mVTURZ51a0"
      },
      "execution_count": 14,
      "outputs": []
    },
    {
      "cell_type": "code",
      "source": [
        "a+b"
      ],
      "metadata": {
        "colab": {
          "base_uri": "https://localhost:8080/"
        },
        "id": "2gSXkBFV6Nd3",
        "outputId": "cf743b13-7cd0-42a9-adf0-787054ffc84c"
      },
      "execution_count": 15,
      "outputs": [
        {
          "output_type": "execute_result",
          "data": {
            "text/plain": [
              "('name', 'hashir', 2, 4, 5)"
            ]
          },
          "metadata": {},
          "execution_count": 15
        }
      ]
    },
    {
      "cell_type": "code",
      "source": [
        "a=int(input(\"enter a number : \"))\n",
        "b=float(input(\"enter a decimal: \"))\n",
        "c=str(input(\"enter any name : \"))\n",
        "print(f\"int : {a}, float : {b}, str : {c}\")"
      ],
      "metadata": {
        "colab": {
          "base_uri": "https://localhost:8080/"
        },
        "id": "CmK05GcK6QFt",
        "outputId": "085ebd75-fd00-4e47-a9fc-e92e10cb7ad6"
      },
      "execution_count": 17,
      "outputs": [
        {
          "output_type": "stream",
          "name": "stdout",
          "text": [
            "enter a number : 5\n",
            "enter a decimal: 1.2\n",
            "enter any name : hashir\n",
            "int : 5, float : 1.2, str : hashir\n"
          ]
        }
      ]
    },
    {
      "cell_type": "code",
      "source": [
        "a,b,c=2,4,5"
      ],
      "metadata": {
        "id": "Skv7d2ZZ7J34"
      },
      "execution_count": 18,
      "outputs": []
    },
    {
      "cell_type": "code",
      "source": [
        "a,b,c"
      ],
      "metadata": {
        "colab": {
          "base_uri": "https://localhost:8080/"
        },
        "id": "tdnaGb8E7klP",
        "outputId": "1e16f86b-c894-4c5c-eadb-882795bb2937"
      },
      "execution_count": 20,
      "outputs": [
        {
          "output_type": "execute_result",
          "data": {
            "text/plain": [
              "(2, 4, 5)"
            ]
          },
          "metadata": {},
          "execution_count": 20
        }
      ]
    },
    {
      "cell_type": "code",
      "source": [
        "a=bool(input(\"enter any name : \"))\n",
        "print(a>=100)\n"
      ],
      "metadata": {
        "colab": {
          "base_uri": "https://localhost:8080/"
        },
        "id": "60jw2UD47l_K",
        "outputId": "cbb9a0b9-54fd-4c4b-8f78-d3687653b5d1"
      },
      "execution_count": 24,
      "outputs": [
        {
          "output_type": "stream",
          "name": "stdout",
          "text": [
            "enter any name : 25\n",
            "False\n"
          ]
        }
      ]
    },
    {
      "cell_type": "code",
      "source": [
        "print=2"
      ],
      "metadata": {
        "id": "MQ5Tkoj87_JG"
      },
      "execution_count": 25,
      "outputs": []
    },
    {
      "cell_type": "code",
      "source": [
        "print(\"hello\")"
      ],
      "metadata": {
        "colab": {
          "base_uri": "https://localhost:8080/",
          "height": 146
        },
        "id": "aip3CyuX8ZWJ",
        "outputId": "daab6449-f5ee-43e7-9ae4-b6fddfd5c94b"
      },
      "execution_count": 26,
      "outputs": [
        {
          "output_type": "error",
          "ename": "TypeError",
          "evalue": "'int' object is not callable",
          "traceback": [
            "\u001b[0;31m---------------------------------------------------------------------------\u001b[0m",
            "\u001b[0;31mTypeError\u001b[0m                                 Traceback (most recent call last)",
            "\u001b[0;32m<ipython-input-26-43d0290e3b7d>\u001b[0m in \u001b[0;36m<cell line: 0>\u001b[0;34m()\u001b[0m\n\u001b[0;32m----> 1\u001b[0;31m \u001b[0mprint\u001b[0m\u001b[0;34m(\u001b[0m\u001b[0;34m\"hello\"\u001b[0m\u001b[0;34m)\u001b[0m\u001b[0;34m\u001b[0m\u001b[0;34m\u001b[0m\u001b[0m\n\u001b[0m",
            "\u001b[0;31mTypeError\u001b[0m: 'int' object is not callable"
          ]
        }
      ]
    },
    {
      "cell_type": "code",
      "source": [
        "del(print)"
      ],
      "metadata": {
        "id": "aO98IxEu8bSz"
      },
      "execution_count": 27,
      "outputs": []
    },
    {
      "cell_type": "code",
      "source": [
        "a=22\n",
        "print(a)\n",
        "a=float(a)\n",
        "print(a)"
      ],
      "metadata": {
        "colab": {
          "base_uri": "https://localhost:8080/"
        },
        "id": "tGQRtofS8c9R",
        "outputId": "6959c26b-134a-446b-a854-e5060a8d5978"
      },
      "execution_count": 31,
      "outputs": [
        {
          "output_type": "stream",
          "name": "stdout",
          "text": [
            "22\n",
            "22.0\n"
          ]
        }
      ]
    },
    {
      "cell_type": "code",
      "source": [
        "a=22\n",
        "print(a)\n",
        "a=complex(a)\n",
        "print(a)"
      ],
      "metadata": {
        "colab": {
          "base_uri": "https://localhost:8080/"
        },
        "id": "CIxfZ1CX8uIm",
        "outputId": "606ed23e-d312-4a13-c46d-4f96456b55a5"
      },
      "execution_count": 32,
      "outputs": [
        {
          "output_type": "stream",
          "name": "stdout",
          "text": [
            "22\n",
            "(22+0j)\n"
          ]
        }
      ]
    },
    {
      "cell_type": "code",
      "source": [
        "a=22.0\n",
        "print(a)\n",
        "a=int(a)\n",
        "print(a)"
      ],
      "metadata": {
        "colab": {
          "base_uri": "https://localhost:8080/"
        },
        "id": "j6tzHrnc84dp",
        "outputId": "666d325e-d7fc-447e-9af2-fbeb0d4dc312"
      },
      "execution_count": 35,
      "outputs": [
        {
          "output_type": "stream",
          "name": "stdout",
          "text": [
            "22.0\n",
            "22\n"
          ]
        }
      ]
    },
    {
      "cell_type": "code",
      "source": [
        "id(a)"
      ],
      "metadata": {
        "colab": {
          "base_uri": "https://localhost:8080/"
        },
        "id": "EUG-2Z4-8-lD",
        "outputId": "efde3d1b-4d94-4a37-bcf4-c2de132cbe0a"
      },
      "execution_count": 36,
      "outputs": [
        {
          "output_type": "execute_result",
          "data": {
            "text/plain": [
              "10751528"
            ]
          },
          "metadata": {},
          "execution_count": 36
        }
      ]
    },
    {
      "cell_type": "code",
      "source": [
        "a=int(input(\"enter any number between 1 to 10 : \"))\n",
        "if a<10:\n",
        "  print(f\"you have choosed {a}, number\")\n",
        "else:\n",
        "    print(\"incoreect number\")"
      ],
      "metadata": {
        "colab": {
          "base_uri": "https://localhost:8080/"
        },
        "id": "rvrEQY6Y9GsM",
        "outputId": "d2859dbd-1900-4d50-b4f3-cc104ab878f2"
      },
      "execution_count": 43,
      "outputs": [
        {
          "output_type": "stream",
          "name": "stdout",
          "text": [
            "enter any number between 1 to 10 : 100\n",
            "incoreect number\n"
          ]
        }
      ]
    },
    {
      "cell_type": "code",
      "source": [
        "a=int(input(\"enter any number between 1 to 10 : \"))\n",
        "if not a<10:\n",
        "  print(f\"you have choosed {a}, number\")\n",
        "else:\n",
        "    print(\"incorect number\")\n"
      ],
      "metadata": {
        "colab": {
          "base_uri": "https://localhost:8080/"
        },
        "id": "ys-1xVM_-Htt",
        "outputId": "50689827-afeb-4a2c-e87b-6173c790f022"
      },
      "execution_count": 45,
      "outputs": [
        {
          "output_type": "stream",
          "name": "stdout",
          "text": [
            "enter any number between 1 to 10 : 100\n",
            "you have choosed 100, number\n"
          ]
        }
      ]
    },
    {
      "cell_type": "code",
      "source": [
        "a=int(input(\"enter any number between 1 to 10 : \"))\n",
        "if a<10 and a%2==0:\n",
        "  print(f\"you have choosed {a}, number\")\n",
        "else:\n",
        "    print(\"incoreect number\")"
      ],
      "metadata": {
        "colab": {
          "base_uri": "https://localhost:8080/"
        },
        "id": "gaPyhEPH-jL7",
        "outputId": "39df6e96-9e80-4d26-a7db-42790f49e96e"
      },
      "execution_count": 46,
      "outputs": [
        {
          "output_type": "stream",
          "name": "stdout",
          "text": [
            "enter any number between 1 to 10 : 5\n",
            "incoreect number\n"
          ]
        }
      ]
    },
    {
      "cell_type": "code",
      "source": [
        "a=int(input(\"enter any number between 1 to 10 : \"))\n",
        "if a<10 and a%2==0:\n",
        "  print(f\"you have choosed {a}, number\")\n",
        "else:\n",
        "    print(\"incoreect number\")"
      ],
      "metadata": {
        "colab": {
          "base_uri": "https://localhost:8080/"
        },
        "id": "9BOI-zwW-sLq",
        "outputId": "fadc954f-5f98-4d00-9514-0f51ae69310c"
      },
      "execution_count": 47,
      "outputs": [
        {
          "output_type": "stream",
          "name": "stdout",
          "text": [
            "enter any number between 1 to 10 : 4\n",
            "you have choosed 4, number\n"
          ]
        }
      ]
    },
    {
      "cell_type": "code",
      "source": [
        "a=int(input(\"enter any number between 1 to 10 : \"))\n",
        "if a<10 or a%2==0:\n",
        "  print(f\"you have choosed {a}, number\")\n",
        "else:\n",
        "    print(\"incoreect number\")"
      ],
      "metadata": {
        "colab": {
          "base_uri": "https://localhost:8080/"
        },
        "id": "dsAwN2on-xM9",
        "outputId": "41449653-b08d-40a9-8e02-efbff76a701b"
      },
      "execution_count": 48,
      "outputs": [
        {
          "output_type": "stream",
          "name": "stdout",
          "text": [
            "enter any number between 1 to 10 : 5\n",
            "you have choosed 5, number\n"
          ]
        }
      ]
    },
    {
      "cell_type": "code",
      "source": [
        "a=int(input(\"enter any number between 1 to 10 : \"))\n",
        "if a<10 :\n",
        "  print(f\"you have choosed {a}, number\")\n",
        "  if a%2==0:\n",
        "    print(f\"you have choosed {a} number , which is divisible by 2\")\n",
        "else:\n",
        "    print(\"incoreect number\")"
      ],
      "metadata": {
        "colab": {
          "base_uri": "https://localhost:8080/"
        },
        "id": "xP89oQHO-1d5",
        "outputId": "941c9bfd-0133-4e07-b725-2f9d4f528e9f"
      },
      "execution_count": 49,
      "outputs": [
        {
          "output_type": "stream",
          "name": "stdout",
          "text": [
            "enter any number between 1 to 10 : 4\n",
            "you have choosed 4, number\n",
            "you have choosed 4 number , which is divisible by 2\n"
          ]
        }
      ]
    },
    {
      "cell_type": "code",
      "source": [
        "a=int(input(\"enter any number between 1 to 10 : \"))\n",
        "if a%2==0:\n",
        "    print(f\"you have choosed {a} number , which is divisible by 2\")\n",
        "if a<10 :\n",
        "  print(f\"you have choosed {a}, number\")\n",
        "\n",
        "else:\n",
        "    print(\"incoreect number\")"
      ],
      "metadata": {
        "colab": {
          "base_uri": "https://localhost:8080/"
        },
        "id": "ieVPt0r7_NST",
        "outputId": "b38b8d60-3e30-47bc-b136-42e827782c61"
      },
      "execution_count": 53,
      "outputs": [
        {
          "output_type": "stream",
          "name": "stdout",
          "text": [
            "enter any number between 1 to 10 : 22\n",
            "you have choosed 22 number , which is divisible by 2\n",
            "incoreect number\n"
          ]
        }
      ]
    },
    {
      "cell_type": "code",
      "source": [
        "a=int(input(\"enter any number between 1 to 10 : \"))\n",
        "if a<10 :\n",
        "  print(f\"you have choosed {a}, number\")\n",
        "elif a%2==0:\n",
        "    print(f\"you have choosed {a} number , which is divisible by 2\")\n",
        "else:\n",
        "    print(\"incoreect number\")"
      ],
      "metadata": {
        "colab": {
          "base_uri": "https://localhost:8080/"
        },
        "id": "Vk-67NPQ_TGk",
        "outputId": "51696039-135c-4bb2-e3b0-0abe15a3d071"
      },
      "execution_count": 55,
      "outputs": [
        {
          "output_type": "stream",
          "name": "stdout",
          "text": [
            "enter any number between 1 to 10 : 22\n",
            "you have choosed 22 number , which is divisible by 2\n"
          ]
        }
      ]
    },
    {
      "cell_type": "code",
      "source": [
        "a==b"
      ],
      "metadata": {
        "colab": {
          "base_uri": "https://localhost:8080/"
        },
        "id": "txXPPv1W_qvL",
        "outputId": "392aa8f6-f471-46d7-dfce-204b9389b385"
      },
      "execution_count": 56,
      "outputs": [
        {
          "output_type": "execute_result",
          "data": {
            "text/plain": [
              "False"
            ]
          },
          "metadata": {},
          "execution_count": 56
        }
      ]
    },
    {
      "cell_type": "code",
      "source": [
        "b==a"
      ],
      "metadata": {
        "colab": {
          "base_uri": "https://localhost:8080/"
        },
        "id": "MTLDP-58_4z3",
        "outputId": "7a615da1-c7f5-4494-f26a-680f1cf6a594"
      },
      "execution_count": 57,
      "outputs": [
        {
          "output_type": "execute_result",
          "data": {
            "text/plain": [
              "False"
            ]
          },
          "metadata": {},
          "execution_count": 57
        }
      ]
    },
    {
      "cell_type": "code",
      "source": [
        "*>="
      ],
      "metadata": {
        "colab": {
          "base_uri": "https://localhost:8080/",
          "height": 109
        },
        "id": "tLMfSUiS_6TH",
        "outputId": "1d0dfa60-67fb-41c8-9f96-bd9cb8fbf091"
      },
      "execution_count": 58,
      "outputs": [
        {
          "output_type": "error",
          "ename": "SyntaxError",
          "evalue": "invalid syntax (<ipython-input-58-81084ba73e48>, line 1)",
          "traceback": [
            "\u001b[0;36m  File \u001b[0;32m\"<ipython-input-58-81084ba73e48>\"\u001b[0;36m, line \u001b[0;32m1\u001b[0m\n\u001b[0;31m    *>=\u001b[0m\n\u001b[0m     ^\u001b[0m\n\u001b[0;31mSyntaxError\u001b[0m\u001b[0;31m:\u001b[0m invalid syntax\n"
          ]
        }
      ]
    },
    {
      "cell_type": "code",
      "source": [
        "a=\"sunny is good boy\"\n",
        "a[0:6]"
      ],
      "metadata": {
        "colab": {
          "base_uri": "https://localhost:8080/",
          "height": 36
        },
        "id": "n9HQAQK6AMyi",
        "outputId": "b0adc6fe-770c-489d-e6ec-0168f98427cf"
      },
      "execution_count": 62,
      "outputs": [
        {
          "output_type": "execute_result",
          "data": {
            "text/plain": [
              "'sunny '"
            ],
            "application/vnd.google.colaboratory.intrinsic+json": {
              "type": "string"
            }
          },
          "metadata": {},
          "execution_count": 62
        }
      ]
    },
    {
      "cell_type": "code",
      "source": [
        " a=\"chandra\"\n",
        " a.replace(\"chandra\",\"hashir\")"
      ],
      "metadata": {
        "colab": {
          "base_uri": "https://localhost:8080/",
          "height": 36
        },
        "id": "foxx43U0Alsy",
        "outputId": "10d6e677-a237-4228-d2b1-12af30d98750"
      },
      "execution_count": 68,
      "outputs": [
        {
          "output_type": "execute_result",
          "data": {
            "text/plain": [
              "'hashir'"
            ],
            "application/vnd.google.colaboratory.intrinsic+json": {
              "type": "string"
            }
          },
          "metadata": {},
          "execution_count": 68
        }
      ]
    },
    {
      "cell_type": "code",
      "source": [
        "a = [\"sunny\", \"bhaveen\", \"chandra\"]\n",
        "len(a)\n"
      ],
      "metadata": {
        "colab": {
          "base_uri": "https://localhost:8080/"
        },
        "id": "nbmTqsoXE2b-",
        "outputId": "85f3bb89-e9c8-4d69-d157-55ffd1d0703d"
      },
      "execution_count": 69,
      "outputs": [
        {
          "output_type": "execute_result",
          "data": {
            "text/plain": [
              "3"
            ]
          },
          "metadata": {},
          "execution_count": 69
        }
      ]
    },
    {
      "cell_type": "code",
      "source": [
        "a = \"sunny bhaveen roshan malik shoeb\"\n",
        "a.split(\" \")\n"
      ],
      "metadata": {
        "colab": {
          "base_uri": "https://localhost:8080/"
        },
        "id": "mT8LXrfwGeHb",
        "outputId": "a6e9f53c-5f8a-41d4-9ea2-09c553d52793"
      },
      "execution_count": 74,
      "outputs": [
        {
          "output_type": "execute_result",
          "data": {
            "text/plain": [
              "['sunny', 'bhaveen', 'roshan', 'malik', 'shoeb']"
            ]
          },
          "metadata": {},
          "execution_count": 74
        }
      ]
    },
    {
      "cell_type": "code",
      "source": [
        "a = \"sunny, bhaveen chandra\"\n",
        "a.count(\"n\")"
      ],
      "metadata": {
        "colab": {
          "base_uri": "https://localhost:8080/"
        },
        "id": "e-I_1C7WGqiF",
        "outputId": "6ec2f8da-29f5-4b1c-cee1-420112890e07"
      },
      "execution_count": 76,
      "outputs": [
        {
          "output_type": "execute_result",
          "data": {
            "text/plain": [
              "4"
            ]
          },
          "metadata": {},
          "execution_count": 76
        }
      ]
    },
    {
      "cell_type": "code",
      "source": [
        "a.upper()"
      ],
      "metadata": {
        "colab": {
          "base_uri": "https://localhost:8080/",
          "height": 36
        },
        "id": "ZHyMmxNeHcDJ",
        "outputId": "02ccfcc7-11e1-4e2b-9e62-6d2db962162c"
      },
      "execution_count": 79,
      "outputs": [
        {
          "output_type": "execute_result",
          "data": {
            "text/plain": [
              "'SUNNY, BHAVEEN CHANDRA'"
            ],
            "application/vnd.google.colaboratory.intrinsic+json": {
              "type": "string"
            }
          },
          "metadata": {},
          "execution_count": 79
        }
      ]
    },
    {
      "cell_type": "code",
      "source": [
        "a.lower()"
      ],
      "metadata": {
        "colab": {
          "base_uri": "https://localhost:8080/",
          "height": 36
        },
        "id": "SBiv2eTxHsOx",
        "outputId": "7855b856-7132-470f-9180-561fd7de6650"
      },
      "execution_count": 80,
      "outputs": [
        {
          "output_type": "execute_result",
          "data": {
            "text/plain": [
              "'sunny, bhaveen chandra'"
            ],
            "application/vnd.google.colaboratory.intrinsic+json": {
              "type": "string"
            }
          },
          "metadata": {},
          "execution_count": 80
        }
      ]
    },
    {
      "cell_type": "code",
      "source": [
        "a.capitalize()"
      ],
      "metadata": {
        "colab": {
          "base_uri": "https://localhost:8080/",
          "height": 36
        },
        "id": "eI0SJ3XAHxzL",
        "outputId": "ff8d3e4d-df6d-4006-f1a3-36aef3fd81ee"
      },
      "execution_count": 81,
      "outputs": [
        {
          "output_type": "execute_result",
          "data": {
            "text/plain": [
              "'Sunny, bhaveen chandra'"
            ],
            "application/vnd.google.colaboratory.intrinsic+json": {
              "type": "string"
            }
          },
          "metadata": {},
          "execution_count": 81
        }
      ]
    },
    {
      "cell_type": "code",
      "source": [
        "a.title()"
      ],
      "metadata": {
        "colab": {
          "base_uri": "https://localhost:8080/",
          "height": 36
        },
        "id": "i3AsR1wmH0lG",
        "outputId": "a3af8dca-ae3e-4b29-e2f8-dbb628c00459"
      },
      "execution_count": 82,
      "outputs": [
        {
          "output_type": "execute_result",
          "data": {
            "text/plain": [
              "'Sunny, Bhaveen Chandra'"
            ],
            "application/vnd.google.colaboratory.intrinsic+json": {
              "type": "string"
            }
          },
          "metadata": {},
          "execution_count": 82
        }
      ]
    },
    {
      "cell_type": "code",
      "source": [
        "\"_\".join(a)"
      ],
      "metadata": {
        "colab": {
          "base_uri": "https://localhost:8080/",
          "height": 36
        },
        "id": "WTx-znMWH7HT",
        "outputId": "f3ca1c5f-f4e1-4937-f5d7-dc5564e5a263"
      },
      "execution_count": 84,
      "outputs": [
        {
          "output_type": "execute_result",
          "data": {
            "text/plain": [
              "'s_u_n_n_y_,_ _b_h_a_v_e_e_n_ _c_h_a_n_d_r_a'"
            ],
            "application/vnd.google.colaboratory.intrinsic+json": {
              "type": "string"
            }
          },
          "metadata": {},
          "execution_count": 84
        }
      ]
    },
    {
      "cell_type": "code",
      "source": [
        "a=\"hashir\"\n",
        "a=a[::-1]\n",
        "print(a)"
      ],
      "metadata": {
        "colab": {
          "base_uri": "https://localhost:8080/"
        },
        "id": "sAoMijEXIGHt",
        "outputId": "a4cae819-7dca-4272-ca35-0f04a51d604e"
      },
      "execution_count": 90,
      "outputs": [
        {
          "output_type": "stream",
          "name": "stdout",
          "text": [
            "rihsah\n"
          ]
        }
      ]
    },
    {
      "cell_type": "code",
      "source": [
        "a=\"__d_hashir___\"\n",
        "a.strip(\"_\")"
      ],
      "metadata": {
        "colab": {
          "base_uri": "https://localhost:8080/",
          "height": 36
        },
        "id": "xIAkvRPqIVTg",
        "outputId": "b00fa724-8e01-4fee-9f31-cdbe90f7d811"
      },
      "execution_count": 92,
      "outputs": [
        {
          "output_type": "execute_result",
          "data": {
            "text/plain": [
              "'d_hashir'"
            ],
            "application/vnd.google.colaboratory.intrinsic+json": {
              "type": "string"
            }
          },
          "metadata": {},
          "execution_count": 92
        }
      ]
    },
    {
      "cell_type": "code",
      "source": [],
      "metadata": {
        "id": "9jKSIqABJZ6J"
      },
      "execution_count": null,
      "outputs": []
    }
  ]
}